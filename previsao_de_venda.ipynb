{
  "nbformat": 4,
  "nbformat_minor": 0,
  "metadata": {
    "colab": {
      "name": "previsao_de_venda.ipynb",
      "provenance": [],
      "collapsed_sections": [],
      "mount_file_id": "1-wu308-7qzab2K7tcI8KVM7nmbFLlmF5",
      "authorship_tag": "ABX9TyOm8R8wXKtGl/B5ufhdivzL",
      "include_colab_link": true
    },
    "kernelspec": {
      "name": "python3",
      "display_name": "Python 3"
    }
  },
  "cells": [
    {
      "cell_type": "markdown",
      "metadata": {
        "id": "view-in-github",
        "colab_type": "text"
      },
      "source": [
        "<a href=\"https://colab.research.google.com/github/EloneSampaio/data_science/blob/master/previsao_de_venda.ipynb\" target=\"_parent\"><img src=\"https://colab.research.google.com/assets/colab-badge.svg\" alt=\"Open In Colab\"/></a>"
      ]
    },
    {
      "cell_type": "markdown",
      "metadata": {
        "id": "oz4Xl0Nv2pk5",
        "colab_type": "text"
      },
      "source": [
        "#Exemplo pra entender regressão\n"
      ]
    },
    {
      "cell_type": "markdown",
      "metadata": {
        "id": "zNSraAFB2tAR",
        "colab_type": "text"
      },
      "source": [
        "##Previsão de Vendas com Machine Learning"
      ]
    },
    {
      "cell_type": "code",
      "metadata": {
        "id": "rQ2oODR83AKL",
        "colab_type": "code",
        "colab": {}
      },
      "source": [
        "## Importando as bibliotecas necessárias.\n",
        "import pandas as pd\n",
        "from pandas import Series,DataFrame\n",
        "from sklearn.model_selection import train_test_split\n",
        "import numpy as np"
      ],
      "execution_count": 8,
      "outputs": []
    },
    {
      "cell_type": "markdown",
      "metadata": {
        "id": "2pHil5433gIU",
        "colab_type": "text"
      },
      "source": [
        "Carregando os dados.\n"
      ]
    },
    {
      "cell_type": "code",
      "metadata": {
        "id": "mvXBQ5ZP3eP-",
        "colab_type": "code",
        "colab": {}
      },
      "source": [
        "df=pd.read_csv('/content/drive/My Drive/DataAnalise/produtos_venda.csv')"
      ],
      "execution_count": 9,
      "outputs": []
    },
    {
      "cell_type": "code",
      "metadata": {
        "id": "VCKRMkgH374J",
        "colab_type": "code",
        "colab": {
          "base_uri": "https://localhost:8080/",
          "height": 421
        },
        "outputId": "19b33459-3d3b-4e4c-99f8-22de881d03d0"
      },
      "source": [
        "df.head().T"
      ],
      "execution_count": 10,
      "outputs": [
        {
          "output_type": "execute_result",
          "data": {
            "text/html": [
              "<div>\n",
              "<style scoped>\n",
              "    .dataframe tbody tr th:only-of-type {\n",
              "        vertical-align: middle;\n",
              "    }\n",
              "\n",
              "    .dataframe tbody tr th {\n",
              "        vertical-align: top;\n",
              "    }\n",
              "\n",
              "    .dataframe thead th {\n",
              "        text-align: right;\n",
              "    }\n",
              "</style>\n",
              "<table border=\"1\" class=\"dataframe\">\n",
              "  <thead>\n",
              "    <tr style=\"text-align: right;\">\n",
              "      <th></th>\n",
              "      <th>0</th>\n",
              "      <th>1</th>\n",
              "      <th>2</th>\n",
              "      <th>3</th>\n",
              "      <th>4</th>\n",
              "    </tr>\n",
              "  </thead>\n",
              "  <tbody>\n",
              "    <tr>\n",
              "      <th>Item_Identifier</th>\n",
              "      <td>FDA15</td>\n",
              "      <td>DRC01</td>\n",
              "      <td>FDN15</td>\n",
              "      <td>FDX07</td>\n",
              "      <td>NCD19</td>\n",
              "    </tr>\n",
              "    <tr>\n",
              "      <th>Item_Weight</th>\n",
              "      <td>9.3</td>\n",
              "      <td>5.92</td>\n",
              "      <td>17.5</td>\n",
              "      <td>19.2</td>\n",
              "      <td>8.93</td>\n",
              "    </tr>\n",
              "    <tr>\n",
              "      <th>Item_Fat_Content</th>\n",
              "      <td>Low Fat</td>\n",
              "      <td>Regular</td>\n",
              "      <td>Low Fat</td>\n",
              "      <td>Regular</td>\n",
              "      <td>Low Fat</td>\n",
              "    </tr>\n",
              "    <tr>\n",
              "      <th>Item_Visibility</th>\n",
              "      <td>0.0160473</td>\n",
              "      <td>0.0192782</td>\n",
              "      <td>0.0167601</td>\n",
              "      <td>0</td>\n",
              "      <td>0</td>\n",
              "    </tr>\n",
              "    <tr>\n",
              "      <th>Item_Type</th>\n",
              "      <td>Dairy</td>\n",
              "      <td>Soft Drinks</td>\n",
              "      <td>Meat</td>\n",
              "      <td>Fruits and Vegetables</td>\n",
              "      <td>Household</td>\n",
              "    </tr>\n",
              "    <tr>\n",
              "      <th>Item_MRP</th>\n",
              "      <td>249.809</td>\n",
              "      <td>48.2692</td>\n",
              "      <td>141.618</td>\n",
              "      <td>182.095</td>\n",
              "      <td>53.8614</td>\n",
              "    </tr>\n",
              "    <tr>\n",
              "      <th>Outlet_Identifier</th>\n",
              "      <td>OUT049</td>\n",
              "      <td>OUT018</td>\n",
              "      <td>OUT049</td>\n",
              "      <td>OUT010</td>\n",
              "      <td>OUT013</td>\n",
              "    </tr>\n",
              "    <tr>\n",
              "      <th>Outlet_Establishment_Year</th>\n",
              "      <td>1999</td>\n",
              "      <td>2009</td>\n",
              "      <td>1999</td>\n",
              "      <td>1998</td>\n",
              "      <td>1987</td>\n",
              "    </tr>\n",
              "    <tr>\n",
              "      <th>Outlet_Size</th>\n",
              "      <td>Medium</td>\n",
              "      <td>Medium</td>\n",
              "      <td>Medium</td>\n",
              "      <td>NaN</td>\n",
              "      <td>High</td>\n",
              "    </tr>\n",
              "    <tr>\n",
              "      <th>Outlet_Location_Type</th>\n",
              "      <td>Tier 1</td>\n",
              "      <td>Tier 3</td>\n",
              "      <td>Tier 1</td>\n",
              "      <td>Tier 3</td>\n",
              "      <td>Tier 3</td>\n",
              "    </tr>\n",
              "    <tr>\n",
              "      <th>Outlet_Type</th>\n",
              "      <td>Supermarket Type1</td>\n",
              "      <td>Supermarket Type2</td>\n",
              "      <td>Supermarket Type1</td>\n",
              "      <td>Grocery Store</td>\n",
              "      <td>Supermarket Type1</td>\n",
              "    </tr>\n",
              "    <tr>\n",
              "      <th>Item_Outlet_Sales</th>\n",
              "      <td>3735.14</td>\n",
              "      <td>443.423</td>\n",
              "      <td>2097.27</td>\n",
              "      <td>732.38</td>\n",
              "      <td>994.705</td>\n",
              "    </tr>\n",
              "  </tbody>\n",
              "</table>\n",
              "</div>"
            ],
            "text/plain": [
              "                                           0  ...                  4\n",
              "Item_Identifier                        FDA15  ...              NCD19\n",
              "Item_Weight                              9.3  ...               8.93\n",
              "Item_Fat_Content                     Low Fat  ...            Low Fat\n",
              "Item_Visibility                    0.0160473  ...                  0\n",
              "Item_Type                              Dairy  ...          Household\n",
              "Item_MRP                             249.809  ...            53.8614\n",
              "Outlet_Identifier                     OUT049  ...             OUT013\n",
              "Outlet_Establishment_Year               1999  ...               1987\n",
              "Outlet_Size                           Medium  ...               High\n",
              "Outlet_Location_Type                  Tier 1  ...             Tier 3\n",
              "Outlet_Type                Supermarket Type1  ...  Supermarket Type1\n",
              "Item_Outlet_Sales                    3735.14  ...            994.705\n",
              "\n",
              "[12 rows x 5 columns]"
            ]
          },
          "metadata": {
            "tags": []
          },
          "execution_count": 10
        }
      ]
    },
    {
      "cell_type": "markdown",
      "metadata": {
        "id": "fbsBSL6m0sgj",
        "colab_type": "text"
      },
      "source": [
        "#Vamos selecionar apenas 3 atributos (variáveis).\n",
        "\n",
        "Outlet_Establishment_Year – Ano do estabelecimento.\n",
        "\n",
        "Item_MRP – Volume em estoque do produto.\n",
        "\n",
        "Item_Outlet_Sales – Volume de vendas ( o que queremos prever)"
      ]
    },
    {
      "cell_type": "markdown",
      "metadata": {
        "id": "rEP7Mm_T0zlp",
        "colab_type": "text"
      },
      "source": [
        "Nossas variáveis de entrada serão: Outlet_Establishment_Year e Item_MRP. O Item_Outlet_Sales será nossa variável de saída."
      ]
    },
    {
      "cell_type": "code",
      "metadata": {
        "id": "nMMg17wm0uuz",
        "colab_type": "code",
        "colab": {}
      },
      "source": [
        "X=df[['Item_MRP','Outlet_Establishment_Year']]\n",
        "y=df['Item_Outlet_Sales']"
      ],
      "execution_count": 11,
      "outputs": []
    },
    {
      "cell_type": "code",
      "metadata": {
        "id": "f3zsIj5b2OU6",
        "colab_type": "code",
        "colab": {}
      },
      "source": [
        "x_train,x_test,y_train,y_test= train_test_split(X,y,test_size=0.3)"
      ],
      "execution_count": 12,
      "outputs": []
    },
    {
      "cell_type": "markdown",
      "metadata": {
        "id": "vW7RYFLC2xOO",
        "colab_type": "text"
      },
      "source": [
        "Separando os dados  de treino e teste\n",
        "\n"
      ]
    },
    {
      "cell_type": "code",
      "metadata": {
        "id": "FQ54PTqW2spb",
        "colab_type": "code",
        "colab": {
          "base_uri": "https://localhost:8080/",
          "height": 34
        },
        "outputId": "48000881-6aaa-4d04-e4ee-fce5a8a772c5"
      },
      "source": [
        "x_train.shape, y_train.shape"
      ],
      "execution_count": 13,
      "outputs": [
        {
          "output_type": "execute_result",
          "data": {
            "text/plain": [
              "((5966, 2), (5966,))"
            ]
          },
          "metadata": {
            "tags": []
          },
          "execution_count": 13
        }
      ]
    },
    {
      "cell_type": "code",
      "metadata": {
        "id": "m6dmKMNc3XGK",
        "colab_type": "code",
        "colab": {}
      },
      "source": [
        ""
      ],
      "execution_count": 13,
      "outputs": []
    },
    {
      "cell_type": "markdown",
      "metadata": {
        "id": "ohpOtCkF31LN",
        "colab_type": "text"
      },
      "source": [
        "#Aqui começaremos a implementação do algoritmo de machine learning"
      ]
    },
    {
      "cell_type": "markdown",
      "metadata": {
        "id": "Q_k49FM73-FZ",
        "colab_type": "text"
      },
      "source": [
        "Instanciando a Regressão Linear\n",
        "\n"
      ]
    },
    {
      "cell_type": "code",
      "metadata": {
        "id": "99EAuLZA3-e7",
        "colab_type": "code",
        "colab": {}
      },
      "source": [
        "from sklearn.linear_model import LinearRegression"
      ],
      "execution_count": 14,
      "outputs": []
    },
    {
      "cell_type": "code",
      "metadata": {
        "id": "XAF1b4ys4FPg",
        "colab_type": "code",
        "colab": {}
      },
      "source": [
        "linear_regression= LinearRegression()"
      ],
      "execution_count": 15,
      "outputs": []
    },
    {
      "cell_type": "markdown",
      "metadata": {
        "id": "PxjdW7ob4R2D",
        "colab_type": "text"
      },
      "source": [
        "Processo para Treinando o modelo\n",
        "\n"
      ]
    },
    {
      "cell_type": "code",
      "metadata": {
        "id": "j-L5p3si4T5C",
        "colab_type": "code",
        "colab": {
          "base_uri": "https://localhost:8080/",
          "height": 34
        },
        "outputId": "2547ecfb-2ef4-4533-cfa6-879692cd48ba"
      },
      "source": [
        "linear_regression.fit(x_train,y_train)"
      ],
      "execution_count": 16,
      "outputs": [
        {
          "output_type": "execute_result",
          "data": {
            "text/plain": [
              "LinearRegression(copy_X=True, fit_intercept=True, n_jobs=None, normalize=False)"
            ]
          },
          "metadata": {
            "tags": []
          },
          "execution_count": 16
        }
      ]
    },
    {
      "cell_type": "markdown",
      "metadata": {
        "id": "irQybt-X4pPT",
        "colab_type": "text"
      },
      "source": [
        "Predizendo os valores para o conjunto de teste\n",
        "\n"
      ]
    },
    {
      "cell_type": "code",
      "metadata": {
        "id": "uk2EDidx4kG5",
        "colab_type": "code",
        "colab": {}
      },
      "source": [
        "predict=linear_regression.predict(x_test)"
      ],
      "execution_count": 17,
      "outputs": []
    },
    {
      "cell_type": "markdown",
      "metadata": {
        "id": "p-1iGFMU49RW",
        "colab_type": "text"
      },
      "source": [
        "#Calculando o MSE (Mean Square Error)\n",
        "\n",
        "É a média do quadrado da diferença entre os valores originais e os valores previstos.\n",
        "\n",
        "\n",
        "\n"
      ]
    },
    {
      "cell_type": "code",
      "metadata": {
        "id": "d1jxcRS14-oC",
        "colab_type": "code",
        "colab": {}
      },
      "source": [
        "mse= np.mean((predict - y_test)**2)"
      ],
      "execution_count": 18,
      "outputs": []
    },
    {
      "cell_type": "code",
      "metadata": {
        "id": "Nk7QaCdH5TPe",
        "colab_type": "code",
        "colab": {
          "base_uri": "https://localhost:8080/",
          "height": 34
        },
        "outputId": "53c0dc92-e163-496e-c0da-5ef5456b49dd"
      },
      "source": [
        "mse"
      ],
      "execution_count": 19,
      "outputs": [
        {
          "output_type": "execute_result",
          "data": {
            "text/plain": [
              "2025505.0795135896"
            ]
          },
          "metadata": {
            "tags": []
          },
          "execution_count": 19
        }
      ]
    },
    {
      "cell_type": "markdown",
      "metadata": {
        "id": "ayssQiuP5xpt",
        "colab_type": "text"
      },
      "source": [
        "#Calculando os Coeficientes\n",
        "\n",
        "São os pesos atribuídos ao atributos(colunas) para calcular o valor predito."
      ]
    },
    {
      "cell_type": "code",
      "metadata": {
        "id": "rT7UbjwD5yNJ",
        "colab_type": "code",
        "colab": {}
      },
      "source": [
        "coeficientes = DataFrame(x_train.columns)"
      ],
      "execution_count": 20,
      "outputs": []
    },
    {
      "cell_type": "code",
      "metadata": {
        "id": "pMy7x3rx6GJL",
        "colab_type": "code",
        "colab": {}
      },
      "source": [
        "coeficientes['Coeficientes'] = Series(linear_regression.coef_)"
      ],
      "execution_count": 21,
      "outputs": []
    },
    {
      "cell_type": "code",
      "metadata": {
        "id": "uJKEJGfm6Rcs",
        "colab_type": "code",
        "colab": {
          "base_uri": "https://localhost:8080/",
          "height": 111
        },
        "outputId": "1bb33632-2f55-4c30-a551-87465db289ce"
      },
      "source": [
        "coeficientes"
      ],
      "execution_count": 22,
      "outputs": [
        {
          "output_type": "execute_result",
          "data": {
            "text/html": [
              "<div>\n",
              "<style scoped>\n",
              "    .dataframe tbody tr th:only-of-type {\n",
              "        vertical-align: middle;\n",
              "    }\n",
              "\n",
              "    .dataframe tbody tr th {\n",
              "        vertical-align: top;\n",
              "    }\n",
              "\n",
              "    .dataframe thead th {\n",
              "        text-align: right;\n",
              "    }\n",
              "</style>\n",
              "<table border=\"1\" class=\"dataframe\">\n",
              "  <thead>\n",
              "    <tr style=\"text-align: right;\">\n",
              "      <th></th>\n",
              "      <th>0</th>\n",
              "      <th>Coeficientes</th>\n",
              "    </tr>\n",
              "  </thead>\n",
              "  <tbody>\n",
              "    <tr>\n",
              "      <th>0</th>\n",
              "      <td>Item_MRP</td>\n",
              "      <td>15.430110</td>\n",
              "    </tr>\n",
              "    <tr>\n",
              "      <th>1</th>\n",
              "      <td>Outlet_Establishment_Year</td>\n",
              "      <td>-8.777215</td>\n",
              "    </tr>\n",
              "  </tbody>\n",
              "</table>\n",
              "</div>"
            ],
            "text/plain": [
              "                           0  Coeficientes\n",
              "0                   Item_MRP     15.430110\n",
              "1  Outlet_Establishment_Year     -8.777215"
            ]
          },
          "metadata": {
            "tags": []
          },
          "execution_count": 22
        }
      ]
    },
    {
      "cell_type": "code",
      "metadata": {
        "id": "_OH0W6_A6TZm",
        "colab_type": "code",
        "colab": {}
      },
      "source": [
        ""
      ],
      "execution_count": 22,
      "outputs": []
    },
    {
      "cell_type": "markdown",
      "metadata": {
        "id": "prSz1vQZ6ph1",
        "colab_type": "text"
      },
      "source": [
        "#Calculando o r-squared\n",
        "\n",
        "É uma medida estatística de quão próximo os dados estão da linha de regressão. Varia entre 0 e 1, indicando percentualmente, o quanto o modelo consegue explicar os valores observados."
      ]
    },
    {
      "cell_type": "code",
      "metadata": {
        "id": "7SoOccPT6q5K",
        "colab_type": "code",
        "colab": {
          "base_uri": "https://localhost:8080/",
          "height": 34
        },
        "outputId": "c433d411-bf49-4107-a273-c334579a73c9"
      },
      "source": [
        "linear_regression.score(x_test,y_test)"
      ],
      "execution_count": 23,
      "outputs": [
        {
          "output_type": "execute_result",
          "data": {
            "text/plain": [
              "0.3350011296653629"
            ]
          },
          "metadata": {
            "tags": []
          },
          "execution_count": 23
        }
      ]
    },
    {
      "cell_type": "code",
      "metadata": {
        "id": "-TMDMYBC6zmy",
        "colab_type": "code",
        "colab": {}
      },
      "source": [
        ""
      ],
      "execution_count": 23,
      "outputs": []
    },
    {
      "cell_type": "markdown",
      "metadata": {
        "id": "NWcbNk1h7k6-",
        "colab_type": "text"
      },
      "source": [
        "##Agora vamos acrescentar mais variáveis no nosso exemplo."
      ]
    },
    {
      "cell_type": "markdown",
      "metadata": {
        "id": "0cSo9Xnb7uox",
        "colab_type": "text"
      },
      "source": [
        "Adicionaremos o Item_Weight no nosso dataFrame"
      ]
    },
    {
      "cell_type": "markdown",
      "metadata": {
        "id": "QWGi_Nv48izI",
        "colab_type": "text"
      },
      "source": [
        "# Vamos preencher os valores faltantes dessa coluna com a média.\n"
      ]
    },
    {
      "cell_type": "markdown",
      "metadata": {
        "id": "3uc7446u77Dp",
        "colab_type": "text"
      },
      "source": [
        "# Verificando e tratando registros nulos.\n",
        "\n",
        "Primeiro vamos tratar os missing values( valores e nulos e NAN"
      ]
    },
    {
      "cell_type": "code",
      "metadata": {
        "id": "Pifnmx948BBs",
        "colab_type": "code",
        "colab": {}
      },
      "source": [
        "df['Item_Weight'].fillna( ( df['Item_Weight'].mean() ), inplace=True)"
      ],
      "execution_count": 24,
      "outputs": []
    },
    {
      "cell_type": "markdown",
      "metadata": {
        "id": "5A-zdHLS8wdW",
        "colab_type": "text"
      },
      "source": [
        "##Fazemos agora novamente o mesmo processo anterior"
      ]
    },
    {
      "cell_type": "markdown",
      "metadata": {
        "id": "Bi6OI6WJ86dq",
        "colab_type": "text"
      },
      "source": [
        "Selecionando  os 3 atributos\n",
        "\n"
      ]
    },
    {
      "cell_type": "code",
      "metadata": {
        "id": "OX1n6l5J88IH",
        "colab_type": "code",
        "colab": {}
      },
      "source": [
        "X = df.loc[:,['Outlet_Establishment_Year','Item_MRP','Item_Weight']]\n",
        "y= df['Item_Outlet_Sales']"
      ],
      "execution_count": 25,
      "outputs": []
    },
    {
      "cell_type": "markdown",
      "metadata": {
        "id": "-nJwwtTG9WSn",
        "colab_type": "text"
      },
      "source": [
        "Separando os conjuntos de treino e teste\n",
        "\n"
      ]
    },
    {
      "cell_type": "code",
      "metadata": {
        "id": "duf6rlAG9Wzv",
        "colab_type": "code",
        "colab": {}
      },
      "source": [
        "x_train, x_test, y_train,y_test = train_test_split(X,df.Item_Outlet_Sales,test_size=0.3)"
      ],
      "execution_count": 26,
      "outputs": []
    },
    {
      "cell_type": "markdown",
      "metadata": {
        "id": "-BHMoNCo9seU",
        "colab_type": "text"
      },
      "source": [
        "Treinado novamente o modelo\n",
        "\n"
      ]
    },
    {
      "cell_type": "code",
      "metadata": {
        "id": "LRO143kL9s5u",
        "colab_type": "code",
        "colab": {
          "base_uri": "https://localhost:8080/",
          "height": 34
        },
        "outputId": "40088644-ec30-41dc-89a2-2ca6d29533f5"
      },
      "source": [
        "linear_regression.fit(x_train,y_train)"
      ],
      "execution_count": 27,
      "outputs": [
        {
          "output_type": "execute_result",
          "data": {
            "text/plain": [
              "LinearRegression(copy_X=True, fit_intercept=True, n_jobs=None, normalize=False)"
            ]
          },
          "metadata": {
            "tags": []
          },
          "execution_count": 27
        }
      ]
    },
    {
      "cell_type": "markdown",
      "metadata": {
        "id": "_AQ2rHaUBE-G",
        "colab_type": "text"
      },
      "source": [
        "Executando a predição e calculando o MSE\n",
        "\n"
      ]
    },
    {
      "cell_type": "code",
      "metadata": {
        "id": "ED-k4gq3BFep",
        "colab_type": "code",
        "colab": {}
      },
      "source": [
        "predict = linear_regression.predict(x_test)"
      ],
      "execution_count": 28,
      "outputs": []
    },
    {
      "cell_type": "code",
      "metadata": {
        "id": "NZ5G38DdBQZ2",
        "colab_type": "code",
        "colab": {}
      },
      "source": [
        "mse = np.mean((predict - y_test)**2)"
      ],
      "execution_count": 29,
      "outputs": []
    },
    {
      "cell_type": "code",
      "metadata": {
        "id": "ahoGdLMbBeoE",
        "colab_type": "code",
        "colab": {
          "base_uri": "https://localhost:8080/",
          "height": 34
        },
        "outputId": "876c64dd-78c6-488e-e384-7e5f262a61aa"
      },
      "source": [
        "mse"
      ],
      "execution_count": 30,
      "outputs": [
        {
          "output_type": "execute_result",
          "data": {
            "text/plain": [
              "2002563.0700041968"
            ]
          },
          "metadata": {
            "tags": []
          },
          "execution_count": 30
        }
      ]
    },
    {
      "cell_type": "markdown",
      "metadata": {
        "id": "zeKls95xBt1w",
        "colab_type": "text"
      },
      "source": [
        "# Verificando os coeficientes.\n"
      ]
    },
    {
      "cell_type": "code",
      "metadata": {
        "id": "lwNGSGYnBvtl",
        "colab_type": "code",
        "colab": {}
      },
      "source": [
        "coeficiente = DataFrame(x_train.columns)\n",
        "coeficiente['Coeficientes']= Series(linear_regression.coef_)"
      ],
      "execution_count": 31,
      "outputs": []
    },
    {
      "cell_type": "code",
      "metadata": {
        "id": "vAOAKby3CABu",
        "colab_type": "code",
        "colab": {
          "base_uri": "https://localhost:8080/",
          "height": 142
        },
        "outputId": "59cbb4ac-44a9-49ad-8a0a-70645b2d168f"
      },
      "source": [
        "coeficiente"
      ],
      "execution_count": 32,
      "outputs": [
        {
          "output_type": "execute_result",
          "data": {
            "text/html": [
              "<div>\n",
              "<style scoped>\n",
              "    .dataframe tbody tr th:only-of-type {\n",
              "        vertical-align: middle;\n",
              "    }\n",
              "\n",
              "    .dataframe tbody tr th {\n",
              "        vertical-align: top;\n",
              "    }\n",
              "\n",
              "    .dataframe thead th {\n",
              "        text-align: right;\n",
              "    }\n",
              "</style>\n",
              "<table border=\"1\" class=\"dataframe\">\n",
              "  <thead>\n",
              "    <tr style=\"text-align: right;\">\n",
              "      <th></th>\n",
              "      <th>0</th>\n",
              "      <th>Coeficientes</th>\n",
              "    </tr>\n",
              "  </thead>\n",
              "  <tbody>\n",
              "    <tr>\n",
              "      <th>0</th>\n",
              "      <td>Outlet_Establishment_Year</td>\n",
              "      <td>-7.659755</td>\n",
              "    </tr>\n",
              "    <tr>\n",
              "      <th>1</th>\n",
              "      <td>Item_MRP</td>\n",
              "      <td>15.234208</td>\n",
              "    </tr>\n",
              "    <tr>\n",
              "      <th>2</th>\n",
              "      <td>Item_Weight</td>\n",
              "      <td>-2.651972</td>\n",
              "    </tr>\n",
              "  </tbody>\n",
              "</table>\n",
              "</div>"
            ],
            "text/plain": [
              "                           0  Coeficientes\n",
              "0  Outlet_Establishment_Year     -7.659755\n",
              "1                   Item_MRP     15.234208\n",
              "2                Item_Weight     -2.651972"
            ]
          },
          "metadata": {
            "tags": []
          },
          "execution_count": 32
        }
      ]
    },
    {
      "cell_type": "markdown",
      "metadata": {
        "id": "_CWaYxyLCKkm",
        "colab_type": "text"
      },
      "source": [
        "##Calculando o r-squared\n",
        "\n"
      ]
    },
    {
      "cell_type": "code",
      "metadata": {
        "id": "R6sy_z8bCK87",
        "colab_type": "code",
        "colab": {
          "base_uri": "https://localhost:8080/",
          "height": 34
        },
        "outputId": "5e2fc2fa-2dd9-431e-dfd5-afac5dc75a67"
      },
      "source": [
        "linear_regression.score(x_test,y_test)"
      ],
      "execution_count": 33,
      "outputs": [
        {
          "output_type": "execute_result",
          "data": {
            "text/plain": [
              "0.3377950635270245"
            ]
          },
          "metadata": {
            "tags": []
          },
          "execution_count": 33
        }
      ]
    },
    {
      "cell_type": "code",
      "metadata": {
        "id": "Gg4f8DhaCx9x",
        "colab_type": "code",
        "colab": {}
      },
      "source": [
        ""
      ],
      "execution_count": 33,
      "outputs": []
    },
    {
      "cell_type": "markdown",
      "metadata": {
        "id": "wc5J1XPcDEh1",
        "colab_type": "text"
      },
      "source": [
        "## E se quisermos adicionar mais atributos a nossa regressão linear? É Só adicionar no dataFrame e verificar se aqueles atributos são úteis pra explicar nossa problema"
      ]
    },
    {
      "cell_type": "code",
      "metadata": {
        "id": "2m0_8YHGDM1l",
        "colab_type": "code",
        "colab": {}
      },
      "source": [
        ""
      ],
      "execution_count": 33,
      "outputs": []
    },
    {
      "cell_type": "markdown",
      "metadata": {
        "id": "PjnwUNRnDZZr",
        "colab_type": "text"
      },
      "source": [
        "#Adiconando atributos do tipo string em regressão linear\n",
        "\n",
        "```\n",
        "# Isto está formatado como código\n",
        "```\n",
        "\n"
      ]
    },
    {
      "cell_type": "markdown",
      "metadata": {
        "id": "k0EGzb9UDnZG",
        "colab_type": "text"
      },
      "source": [
        "Pré-processamento nos dados para aplicar a Regressão\n",
        "\n"
      ]
    },
    {
      "cell_type": "markdown",
      "metadata": {
        "id": "wasKn79oDqxH",
        "colab_type": "text"
      },
      "source": [
        "Tratando Missing Values (Valores em falta)\n",
        "\n"
      ]
    },
    {
      "cell_type": "code",
      "metadata": {
        "id": "530jEUHoDn32",
        "colab_type": "code",
        "colab": {}
      },
      "source": [
        "# Substituir os valores iguais a 0 pela média.\n",
        "df['Item_Visibility'] = df['Item_Visibility'].replace(0,np.mean(df['Item_Visibility']))\n",
        "\n",
        "# Substituindo os valores pela quantidade de anos que a loja tem.\n",
        "df['Outlet_Establishment_Year'] = 2013 - df['Outlet_Establishment_Year']\n",
        "\n",
        "#  Para todos os valores faltantes desse coluna, vamos preencher com ‘Small’ (pequena).\n",
        "df['Outlet_Size'].fillna('Small',inplace=True)"
      ],
      "execution_count": 34,
      "outputs": []
    },
    {
      "cell_type": "markdown",
      "metadata": {
        "id": "djMuYALdEBKu",
        "colab_type": "text"
      },
      "source": [
        "Como a regressão só trabalha com dados numéricos, precisamos fazer a transformação das variáveis categóricas.(com letras)"
      ]
    },
    {
      "cell_type": "markdown",
      "metadata": {
        "id": "6mv-dG4gES83",
        "colab_type": "text"
      },
      "source": [
        "Métodos para transformar essas variáveis em valores numéricos:\n",
        "\n",
        "LabelEncoder – Atribui um valor para cada uma das variáveis, a desvantagem é que gera uma ordem que na verdade não existe.\n",
        "\n",
        "OneHotEncoder – Atribui valores binários para cada variável, a desvantagem é que gera uma matriz esparsa (quando possui uma grande quantidade de elementos que valem zero).\n",
        "\n",
        "Você precisa analisar e testar cada uma dessas técnicas de acordo com o seu cenário."
      ]
    },
    {
      "cell_type": "markdown",
      "metadata": {
        "id": "9uTjib6IEfUa",
        "colab_type": "text"
      },
      "source": [
        "##Importando o LabelEncoder\n",
        "\n"
      ]
    },
    {
      "cell_type": "code",
      "metadata": {
        "id": "-UK7rdzHEgUC",
        "colab_type": "code",
        "colab": {}
      },
      "source": [
        "from sklearn import preprocessing\n"
      ],
      "execution_count": 35,
      "outputs": []
    },
    {
      "cell_type": "code",
      "metadata": {
        "id": "-cLgZUtcE5BF",
        "colab_type": "code",
        "colab": {}
      },
      "source": [
        "le= preprocessing.LabelEncoder()"
      ],
      "execution_count": 36,
      "outputs": []
    },
    {
      "cell_type": "markdown",
      "metadata": {
        "id": "bWCTrhVLE-VA",
        "colab_type": "text"
      },
      "source": [
        "##Criação de uma **Função** para aplicar o LabelEncoder em cada atributo\n",
        "\n"
      ]
    },
    {
      "cell_type": "code",
      "metadata": {
        "id": "VZP3CfOpFAgK",
        "colab_type": "code",
        "colab": {}
      },
      "source": [
        " def generate_labelEncoder(atributos):\n",
        "      for atributo in atributos:\n",
        "         df[atributo] = le.fit_transform(df[atributo])\n",
        "      return df;   "
      ],
      "execution_count": 37,
      "outputs": []
    },
    {
      "cell_type": "code",
      "metadata": {
        "id": "lronl9zZFjtc",
        "colab_type": "code",
        "colab": {}
      },
      "source": [
        "df= generate_labelEncoder(['Item_Fat_Content','Item_Type','Outlet_Identifier','Outlet_Size','Outlet_Location_Type','Outlet_Type'])"
      ],
      "execution_count": 38,
      "outputs": []
    },
    {
      "cell_type": "code",
      "metadata": {
        "id": "8Lb5B-w_FrwA",
        "colab_type": "code",
        "colab": {
          "base_uri": "https://localhost:8080/",
          "height": 421
        },
        "outputId": "5efe2beb-0101-433d-f055-82a59d7962a4"
      },
      "source": [
        "df.head().T"
      ],
      "execution_count": 40,
      "outputs": [
        {
          "output_type": "execute_result",
          "data": {
            "text/html": [
              "<div>\n",
              "<style scoped>\n",
              "    .dataframe tbody tr th:only-of-type {\n",
              "        vertical-align: middle;\n",
              "    }\n",
              "\n",
              "    .dataframe tbody tr th {\n",
              "        vertical-align: top;\n",
              "    }\n",
              "\n",
              "    .dataframe thead th {\n",
              "        text-align: right;\n",
              "    }\n",
              "</style>\n",
              "<table border=\"1\" class=\"dataframe\">\n",
              "  <thead>\n",
              "    <tr style=\"text-align: right;\">\n",
              "      <th></th>\n",
              "      <th>0</th>\n",
              "      <th>1</th>\n",
              "      <th>2</th>\n",
              "      <th>3</th>\n",
              "      <th>4</th>\n",
              "    </tr>\n",
              "  </thead>\n",
              "  <tbody>\n",
              "    <tr>\n",
              "      <th>Item_Identifier</th>\n",
              "      <td>FDA15</td>\n",
              "      <td>DRC01</td>\n",
              "      <td>FDN15</td>\n",
              "      <td>FDX07</td>\n",
              "      <td>NCD19</td>\n",
              "    </tr>\n",
              "    <tr>\n",
              "      <th>Item_Weight</th>\n",
              "      <td>9.3</td>\n",
              "      <td>5.92</td>\n",
              "      <td>17.5</td>\n",
              "      <td>19.2</td>\n",
              "      <td>8.93</td>\n",
              "    </tr>\n",
              "    <tr>\n",
              "      <th>Item_Fat_Content</th>\n",
              "      <td>1</td>\n",
              "      <td>2</td>\n",
              "      <td>1</td>\n",
              "      <td>2</td>\n",
              "      <td>1</td>\n",
              "    </tr>\n",
              "    <tr>\n",
              "      <th>Item_Visibility</th>\n",
              "      <td>0.0160473</td>\n",
              "      <td>0.0192782</td>\n",
              "      <td>0.0167601</td>\n",
              "      <td>0.066132</td>\n",
              "      <td>0.066132</td>\n",
              "    </tr>\n",
              "    <tr>\n",
              "      <th>Item_Type</th>\n",
              "      <td>4</td>\n",
              "      <td>14</td>\n",
              "      <td>10</td>\n",
              "      <td>6</td>\n",
              "      <td>9</td>\n",
              "    </tr>\n",
              "    <tr>\n",
              "      <th>Item_MRP</th>\n",
              "      <td>249.809</td>\n",
              "      <td>48.2692</td>\n",
              "      <td>141.618</td>\n",
              "      <td>182.095</td>\n",
              "      <td>53.8614</td>\n",
              "    </tr>\n",
              "    <tr>\n",
              "      <th>Outlet_Identifier</th>\n",
              "      <td>9</td>\n",
              "      <td>3</td>\n",
              "      <td>9</td>\n",
              "      <td>0</td>\n",
              "      <td>1</td>\n",
              "    </tr>\n",
              "    <tr>\n",
              "      <th>Outlet_Establishment_Year</th>\n",
              "      <td>14</td>\n",
              "      <td>4</td>\n",
              "      <td>14</td>\n",
              "      <td>15</td>\n",
              "      <td>26</td>\n",
              "    </tr>\n",
              "    <tr>\n",
              "      <th>Outlet_Size</th>\n",
              "      <td>1</td>\n",
              "      <td>1</td>\n",
              "      <td>1</td>\n",
              "      <td>2</td>\n",
              "      <td>0</td>\n",
              "    </tr>\n",
              "    <tr>\n",
              "      <th>Outlet_Location_Type</th>\n",
              "      <td>0</td>\n",
              "      <td>2</td>\n",
              "      <td>0</td>\n",
              "      <td>2</td>\n",
              "      <td>2</td>\n",
              "    </tr>\n",
              "    <tr>\n",
              "      <th>Outlet_Type</th>\n",
              "      <td>1</td>\n",
              "      <td>2</td>\n",
              "      <td>1</td>\n",
              "      <td>0</td>\n",
              "      <td>1</td>\n",
              "    </tr>\n",
              "    <tr>\n",
              "      <th>Item_Outlet_Sales</th>\n",
              "      <td>3735.14</td>\n",
              "      <td>443.423</td>\n",
              "      <td>2097.27</td>\n",
              "      <td>732.38</td>\n",
              "      <td>994.705</td>\n",
              "    </tr>\n",
              "  </tbody>\n",
              "</table>\n",
              "</div>"
            ],
            "text/plain": [
              "                                   0          1          2         3         4\n",
              "Item_Identifier                FDA15      DRC01      FDN15     FDX07     NCD19\n",
              "Item_Weight                      9.3       5.92       17.5      19.2      8.93\n",
              "Item_Fat_Content                   1          2          1         2         1\n",
              "Item_Visibility            0.0160473  0.0192782  0.0167601  0.066132  0.066132\n",
              "Item_Type                          4         14         10         6         9\n",
              "Item_MRP                     249.809    48.2692    141.618   182.095   53.8614\n",
              "Outlet_Identifier                  9          3          9         0         1\n",
              "Outlet_Establishment_Year         14          4         14        15        26\n",
              "Outlet_Size                        1          1          1         2         0\n",
              "Outlet_Location_Type               0          2          0         2         2\n",
              "Outlet_Type                        1          2          1         0         1\n",
              "Item_Outlet_Sales            3735.14    443.423    2097.27    732.38   994.705"
            ]
          },
          "metadata": {
            "tags": []
          },
          "execution_count": 40
        }
      ]
    },
    {
      "cell_type": "code",
      "metadata": {
        "id": "UFDAgl6yF-D_",
        "colab_type": "code",
        "colab": {}
      },
      "source": [
        ""
      ],
      "execution_count": null,
      "outputs": []
    },
    {
      "cell_type": "markdown",
      "metadata": {
        "id": "9ZcPVHW1GZ8G",
        "colab_type": "text"
      },
      "source": [
        "Excluindo os atributos identificador do item e quantidade de vendas\n",
        " porque não usaremos\n",
        " \n"
      ]
    },
    {
      "cell_type": "code",
      "metadata": {
        "id": "LjdiO-DxGfN1",
        "colab_type": "code",
        "colab": {}
      },
      "source": [
        "X=df.drop(['Item_Identifier','Item_Outlet_Sales'], axis=1)"
      ],
      "execution_count": 42,
      "outputs": []
    },
    {
      "cell_type": "code",
      "metadata": {
        "id": "8qI2qGZyGqD9",
        "colab_type": "code",
        "colab": {}
      },
      "source": [
        "x_train,x_test,y_train,y_test = train_test_split(X,df.Item_Outlet_Sales, test_size=0.3)"
      ],
      "execution_count": 43,
      "outputs": []
    },
    {
      "cell_type": "markdown",
      "metadata": {
        "id": "yeXG8POhHD_p",
        "colab_type": "text"
      },
      "source": [
        "Treinando o modelo com os atributos selecionados e transformados\n",
        "\n"
      ]
    },
    {
      "cell_type": "code",
      "metadata": {
        "id": "F3TFOUJXHEct",
        "colab_type": "code",
        "colab": {
          "base_uri": "https://localhost:8080/",
          "height": 34
        },
        "outputId": "8530912e-05d4-4489-f313-c55bca363ebb"
      },
      "source": [
        "linear_regression.fit(x_train,y_train)"
      ],
      "execution_count": 44,
      "outputs": [
        {
          "output_type": "execute_result",
          "data": {
            "text/plain": [
              "LinearRegression(copy_X=True, fit_intercept=True, n_jobs=None, normalize=False)"
            ]
          },
          "metadata": {
            "tags": []
          },
          "execution_count": 44
        }
      ]
    },
    {
      "cell_type": "markdown",
      "metadata": {
        "id": "UDG2b_TjHODy",
        "colab_type": "text"
      },
      "source": [
        "Realizando a predição e calculando as métricas\n",
        "\n"
      ]
    },
    {
      "cell_type": "code",
      "metadata": {
        "id": "dppcLhylHOi2",
        "colab_type": "code",
        "colab": {}
      },
      "source": [
        "predict=linear_regression.predict(x_test)"
      ],
      "execution_count": 46,
      "outputs": []
    },
    {
      "cell_type": "markdown",
      "metadata": {
        "id": "m0kBaPuTHc5K",
        "colab_type": "text"
      },
      "source": [
        "MSE"
      ]
    },
    {
      "cell_type": "code",
      "metadata": {
        "id": "kwTVhz2RHdTp",
        "colab_type": "code",
        "colab": {}
      },
      "source": [
        "mse = np.mean((predict-y_test)**2)"
      ],
      "execution_count": 48,
      "outputs": []
    },
    {
      "cell_type": "code",
      "metadata": {
        "id": "PhFWdxiTHo9D",
        "colab_type": "code",
        "colab": {
          "base_uri": "https://localhost:8080/",
          "height": 34
        },
        "outputId": "635445e6-153a-42e9-ed62-0d0df3a8b71a"
      },
      "source": [
        "mse"
      ],
      "execution_count": 49,
      "outputs": [
        {
          "output_type": "execute_result",
          "data": {
            "text/plain": [
              "1467185.5768593368"
            ]
          },
          "metadata": {
            "tags": []
          },
          "execution_count": 49
        }
      ]
    },
    {
      "cell_type": "code",
      "metadata": {
        "id": "GVWu02d4HsUI",
        "colab_type": "code",
        "colab": {
          "base_uri": "https://localhost:8080/",
          "height": 34
        },
        "outputId": "3bf15c48-d0dc-44ac-d35c-c708d5a29850"
      },
      "source": [
        "linear_regression.score(x_test,y_test)"
      ],
      "execution_count": 50,
      "outputs": [
        {
          "output_type": "execute_result",
          "data": {
            "text/plain": [
              "0.5042646432958688"
            ]
          },
          "metadata": {
            "tags": []
          },
          "execution_count": 50
        }
      ]
    },
    {
      "cell_type": "code",
      "metadata": {
        "id": "XyxBcCVkH0u5",
        "colab_type": "code",
        "colab": {}
      },
      "source": [
        ""
      ],
      "execution_count": null,
      "outputs": []
    }
  ]
}