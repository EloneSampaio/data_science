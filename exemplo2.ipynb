{
  "nbformat": 4,
  "nbformat_minor": 0,
  "metadata": {
    "colab": {
      "name": "exemplo2.ipynb",
      "provenance": [],
      "mount_file_id": "1rXPct76miYpOPlboUgUPlcl_JIZg8-uA",
      "authorship_tag": "ABX9TyPyYHNuNm/KtRtF9KU6U+fS",
      "include_colab_link": true
    },
    "kernelspec": {
      "name": "python3",
      "display_name": "Python 3"
    }
  },
  "cells": [
    {
      "cell_type": "markdown",
      "metadata": {
        "id": "view-in-github",
        "colab_type": "text"
      },
      "source": [
        "<a href=\"https://colab.research.google.com/github/EloneSampaio/data_science/blob/master/exemplo2.ipynb\" target=\"_parent\"><img src=\"https://colab.research.google.com/assets/colab-badge.svg\" alt=\"Open In Colab\"/></a>"
      ]
    },
    {
      "cell_type": "code",
      "metadata": {
        "id": "y0mCuGjxGaAm",
        "colab_type": "code",
        "colab": {}
      },
      "source": [
        "import torch\n",
        "import torch.nn as nn;\n",
        "import torch.nn.functional as F;\n",
        "import numpy as np;\n",
        "import pandas as pd;\n",
        "from sklearn.model_selection import train_test_split\n",
        "from pathlib import Path;\n",
        "\n"
      ],
      "execution_count": null,
      "outputs": []
    },
    {
      "cell_type": "code",
      "metadata": {
        "id": "-kGVlnggHoLm",
        "colab_type": "code",
        "colab": {}
      },
      "source": [
        "#criar tensor no pytorch \n",
        "a=np.array([1,2,3]);\n",
        "t=torch.from_numpy(a);\n"
      ],
      "execution_count": null,
      "outputs": []
    },
    {
      "cell_type": "code",
      "metadata": {
        "id": "zNxrrXn3IAf8",
        "colab_type": "code",
        "colab": {
          "base_uri": "https://localhost:8080/",
          "height": 34
        },
        "outputId": "137f45ff-d4fe-41cf-8578-6e7c4cf8b68b"
      },
      "source": [
        "print(b*10)"
      ],
      "execution_count": null,
      "outputs": [
        {
          "output_type": "stream",
          "text": [
            "tensor([10, 20, 30])\n"
          ],
          "name": "stdout"
        }
      ]
    },
    {
      "cell_type": "code",
      "metadata": {
        "id": "R4FgtCsPIP2b",
        "colab_type": "code",
        "colab": {}
      },
      "source": [
        "t.dot(t);"
      ],
      "execution_count": null,
      "outputs": []
    },
    {
      "cell_type": "code",
      "metadata": {
        "id": "6oDDfhr2A5X_",
        "colab_type": "code",
        "colab": {}
      },
      "source": [
        "df=pd.read_csv('/content/drive/My Drive/Datasets/flossmat_transition.csv');\n",
        "dfn=df.fillna(0);"
      ],
      "execution_count": null,
      "outputs": []
    },
    {
      "cell_type": "code",
      "metadata": {
        "id": "ShkB4FOJA50H",
        "colab_type": "code",
        "colab": {}
      },
      "source": [
        "#gerar ficheiro para teste e treino\n",
        "#data_copy=dfn.copy()\n",
        "#train, test = train_test_split(data_copy, test_size=0.2, random_state=42)\n",
        "#data_dir=\"/content/drive/My Drive/DataAnalise\"\n",
        "#train_path = Path(data_dir, 'train.tsv')\n",
        "#test_path = Path(data_dir, 'test.tsv')\n",
        "# save the train and test file\n",
        "# again using the '\\t' separator to create tab-separated-values files\n",
        "#train.to_csv(train_path, sep='\\t', index=False)\n",
        "#test.to_csv(test_path, sep='\\t', index=False)"
      ],
      "execution_count": null,
      "outputs": []
    },
    {
      "cell_type": "code",
      "metadata": {
        "id": "yfBNIrAUKVyO",
        "colab_type": "code",
        "colab": {}
      },
      "source": [
        "test_df = dfn.sample(frac=0.3)\n"
      ],
      "execution_count": null,
      "outputs": []
    },
    {
      "cell_type": "code",
      "metadata": {
        "id": "6jUjKDuVZTOk",
        "colab_type": "code",
        "colab": {
          "base_uri": "https://localhost:8080/",
          "height": 255
        },
        "outputId": "ff686bbb-489e-4d4a-f57a-444cf4e73fbf"
      },
      "source": [
        "print(test_df)"
      ],
      "execution_count": null,
      "outputs": [
        {
          "output_type": "stream",
          "text": [
            "       3.544321355688  4.08981183937256  ...       NA.1  1\n",
            "13085        7.229821          7.917252  ...   5.374600  1\n",
            "2225         0.323938          0.254069  ...   0.000000  0\n",
            "33161        4.698451          5.085402  ...   2.721110  1\n",
            "20868        4.979511          5.692549  ...   0.000000  1\n",
            "32160        0.524843          0.759838  ...   0.000000  0\n",
            "...               ...               ...  ...        ... ..\n",
            "21148        5.927809          6.966479  ...  -4.246800  1\n",
            "29238        0.680001          0.732223  ...  21.449670  0\n",
            "10884        1.682500          1.887035  ...   5.304967  0\n",
            "10089        6.741551          7.453055  ...  11.884000  1\n",
            "7649         3.750676          4.322057  ...  16.759000  1\n",
            "\n",
            "[10620 rows x 45 columns]\n"
          ],
          "name": "stdout"
        }
      ]
    },
    {
      "cell_type": "code",
      "metadata": {
        "id": "rH536r29fDAq",
        "colab_type": "code",
        "colab": {}
      },
      "source": [
        ""
      ],
      "execution_count": null,
      "outputs": []
    },
    {
      "cell_type": "code",
      "metadata": {
        "id": "y2u3BO3PfRlI",
        "colab_type": "code",
        "colab": {}
      },
      "source": [
        ""
      ],
      "execution_count": null,
      "outputs": []
    },
    {
      "cell_type": "code",
      "metadata": {
        "id": "QbtIIGNRfSMb",
        "colab_type": "code",
        "colab": {}
      },
      "source": [
        "class Net(nn.Module):\n",
        "   \n",
        "      def __init__(self):\n",
        "         super(Net,self).__init__();\n",
        "         self.fc1=nn.Linear(8,100)\n",
        "         self.fc2=nn.Linear(100,100)\n",
        "         self.fc3=nn.Linear(100,1)\n",
        "    \n",
        "      def forward(self, x): \n",
        "        x= F.normalize(x);\n",
        "        x=F.relu(self.fc1(x))\n",
        "        x=F.relu(self.fc2(x))\n",
        "\n",
        "        y=self.out(x)\n",
        "\n",
        "        return y\n",
        "          "
      ],
      "execution_count": null,
      "outputs": []
    },
    {
      "cell_type": "code",
      "metadata": {
        "id": "MUoheoeof8OZ",
        "colab_type": "code",
        "colab": {
          "base_uri": "https://localhost:8080/",
          "height": 102
        },
        "outputId": "2c1a6512-ba1f-4bc7-e29a-a40d98bb15e0"
      },
      "source": [
        "net=Net()\n",
        "print(net)"
      ],
      "execution_count": null,
      "outputs": [
        {
          "output_type": "stream",
          "text": [
            "Net(\n",
            "  (fc1): Linear(in_features=8, out_features=100, bias=True)\n",
            "  (fc2): Linear(in_features=100, out_features=100, bias=True)\n",
            "  (fc3): Linear(in_features=100, out_features=1, bias=True)\n",
            ")\n"
          ],
          "name": "stdout"
        }
      ]
    },
    {
      "cell_type": "code",
      "metadata": {
        "id": "M2MQcLMSqJy4",
        "colab_type": "code",
        "colab": {}
      },
      "source": [
        ""
      ],
      "execution_count": null,
      "outputs": []
    }
  ]
}